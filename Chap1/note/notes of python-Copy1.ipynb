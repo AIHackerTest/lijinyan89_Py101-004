{
 "cells": [
  {
   "cell_type": "code",
   "execution_count": null,
   "metadata": {
    "collapsed": true
   },
   "outputs": [],
   "source": [
    "打开，读取文件，\n",
    "file.open(filename,'r'\\'w'\\'a'\\'r+'\\'b') ,\n",
    "with open('workfile') as f: \n",
    "    read_data = f.read() , \n",
    "    \n",
    "f.close()\n",
    "f.read()  f.readline(),\\n 截止\n",
    "\n",
    "for line in f:\n",
    "    print (line, end = '')\n",
    "\n",
    "f.readlines(),   list(f)\n",
    "\n",
    "f.write(string) eg: f.write(\"This is a test\\n\")\n",
    "\n",
    "f.tell() location\n",
    "\n",
    "f.seek(offset, from_what)\n",
    "\n",
    "f = open('workfile', 'r+')\n",
    "f.write(b'0123456789abcdef') 16\n",
    "f.seek(5) 5\n",
    "f.read(1) b'5'\n",
    "f.seek(-3,2) 13\n",
    "f.read(1)  b'd'\n",
    "\n",
    "text file  seek(0, 2)  valid offset value returned from f.tell() or 0\n",
    "    "
   ]
  },
  {
   "cell_type": "code",
   "execution_count": null,
   "metadata": {
    "collapsed": true
   },
   "outputs": [],
   "source": [
    "wea = re.split(r'[,\\s]',weather)\n",
    "将txt文件转化成列表"
   ]
  },
  {
   "cell_type": "code",
   "execution_count": null,
   "metadata": {
    "collapsed": true
   },
   "outputs": [],
   "source": [
    "d = {}\n",
    "\n",
    "for i in range(0, len(wea), 2):\n",
    "    d[wea[i]] = wea[i+1]\n",
    "\n",
    "print (d)\n",
    "列表转换成字典"
   ]
  },
  {
   "cell_type": "code",
   "execution_count": null,
   "metadata": {
    "collapsed": true
   },
   "outputs": [],
   "source": [
    "\n",
    "    city = input(\"请输入城市名：\")\n",
    "\n",
    "    print (d.get(CITY,\"抱歉，没有这个城市的天气信息\"))\n",
    "字典由键得到值"
   ]
  },
  {
   "cell_type": "code",
   "execution_count": null,
   "metadata": {
    "collapsed": true
   },
   "outputs": [],
   "source": [
    "while True :\n",
    "    if 条件：\n",
    "        break\n",
    "无限循环与退出"
   ]
  }
 ],
 "metadata": {
  "kernelspec": {
   "display_name": "Python 3",
   "language": "python",
   "name": "python3"
  },
  "language_info": {
   "codemirror_mode": {
    "name": "ipython",
    "version": 3
   },
   "file_extension": ".py",
   "mimetype": "text/x-python",
   "name": "python",
   "nbconvert_exporter": "python",
   "pygments_lexer": "ipython3",
   "version": "3.6.1"
  }
 },
 "nbformat": 4,
 "nbformat_minor": 2
}
